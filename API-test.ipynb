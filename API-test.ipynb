{
 "cells": [
  {
   "cell_type": "code",
   "execution_count": 4,
   "metadata": {},
   "outputs": [
    {
     "name": "stdout",
     "output_type": "stream",
     "text": [
      "Requirement already satisfied: pydeck in c:\\users\\choon\\appdata\\local\\continuum\\anaconda3\\lib\\site-packages (0.6.2)\n",
      "Requirement already satisfied: jinja2>=2.10.1 in c:\\users\\choon\\appdata\\local\\continuum\\anaconda3\\lib\\site-packages (from pydeck) (2.11.2)\n",
      "Requirement already satisfied: ipykernel>=5.1.2; python_version >= \"3.4\" in c:\\users\\choon\\appdata\\local\\continuum\\anaconda3\\lib\\site-packages (from pydeck) (5.1.4)\n",
      "Requirement already satisfied: traitlets>=4.3.2 in c:\\users\\choon\\appdata\\local\\continuum\\anaconda3\\lib\\site-packages (from pydeck) (4.3.3)\n",
      "Requirement already satisfied: numpy>=1.16.4 in c:\\users\\choon\\appdata\\local\\continuum\\anaconda3\\lib\\site-packages (from pydeck) (1.18.4)\n",
      "Requirement already satisfied: ipywidgets>=7.0.0 in c:\\users\\choon\\appdata\\local\\continuum\\anaconda3\\lib\\site-packages (from pydeck) (7.5.1)\n",
      "Requirement already satisfied: MarkupSafe>=0.23 in c:\\users\\choon\\appdata\\local\\continuum\\anaconda3\\lib\\site-packages (from jinja2>=2.10.1->pydeck) (1.1.1)\n",
      "Requirement already satisfied: jupyter-client in c:\\users\\choon\\appdata\\local\\continuum\\anaconda3\\lib\\site-packages (from ipykernel>=5.1.2; python_version >= \"3.4\"->pydeck) (6.1.3)\n",
      "Requirement already satisfied: tornado>=4.2 in c:\\users\\choon\\appdata\\local\\continuum\\anaconda3\\lib\\site-packages (from ipykernel>=5.1.2; python_version >= \"3.4\"->pydeck) (6.0.4)\n",
      "Requirement already satisfied: ipython>=5.0.0 in c:\\users\\choon\\appdata\\local\\continuum\\anaconda3\\lib\\site-packages (from ipykernel>=5.1.2; python_version >= \"3.4\"->pydeck) (7.13.0)\n",
      "Requirement already satisfied: ipython-genutils in c:\\users\\choon\\appdata\\local\\continuum\\anaconda3\\lib\\site-packages (from traitlets>=4.3.2->pydeck) (0.2.0)\n",
      "Requirement already satisfied: six in c:\\users\\choon\\appdata\\local\\continuum\\anaconda3\\lib\\site-packages (from traitlets>=4.3.2->pydeck) (1.14.0)\n",
      "Requirement already satisfied: decorator in c:\\users\\choon\\appdata\\local\\continuum\\anaconda3\\lib\\site-packages (from traitlets>=4.3.2->pydeck) (4.4.2)\n",
      "Requirement already satisfied: widgetsnbextension~=3.5.0 in c:\\users\\choon\\appdata\\local\\continuum\\anaconda3\\lib\\site-packages (from ipywidgets>=7.0.0->pydeck) (3.5.1)\n",
      "Requirement already satisfied: nbformat>=4.2.0 in c:\\users\\choon\\appdata\\local\\continuum\\anaconda3\\lib\\site-packages (from ipywidgets>=7.0.0->pydeck) (5.0.4)\n",
      "Requirement already satisfied: python-dateutil>=2.1 in c:\\users\\choon\\appdata\\local\\continuum\\anaconda3\\lib\\site-packages (from jupyter-client->ipykernel>=5.1.2; python_version >= \"3.4\"->pydeck) (2.8.1)\n"
     ]
    },
    {
     "name": "stderr",
     "output_type": "stream",
     "text": [
      "WARNING: You are using pip version 20.1; however, version 21.1.2 is available.\n",
      "You should consider upgrading via the 'c:\\users\\choon\\appdata\\local\\continuum\\anaconda3\\python.exe -m pip install --upgrade pip' command.\n"
     ]
    },
    {
     "name": "stdout",
     "output_type": "stream",
     "text": [
      "Requirement already satisfied: pyzmq>=13 in c:\\users\\choon\\appdata\\local\\continuum\\anaconda3\\lib\\site-packages (from jupyter-client->ipykernel>=5.1.2; python_version >= \"3.4\"->pydeck) (18.1.1)\n",
      "Requirement already satisfied: jupyter-core>=4.6.0 in c:\\users\\choon\\appdata\\local\\continuum\\anaconda3\\lib\\site-packages (from jupyter-client->ipykernel>=5.1.2; python_version >= \"3.4\"->pydeck) (4.6.3)\n",
      "Requirement already satisfied: pygments in c:\\users\\choon\\appdata\\local\\continuum\\anaconda3\\lib\\site-packages (from ipython>=5.0.0->ipykernel>=5.1.2; python_version >= \"3.4\"->pydeck) (2.6.1)\n",
      "Requirement already satisfied: prompt-toolkit!=3.0.0,!=3.0.1,<3.1.0,>=2.0.0 in c:\\users\\choon\\appdata\\local\\continuum\\anaconda3\\lib\\site-packages (from ipython>=5.0.0->ipykernel>=5.1.2; python_version >= \"3.4\"->pydeck) (3.0.4)\n",
      "Requirement already satisfied: setuptools>=18.5 in c:\\users\\choon\\appdata\\local\\continuum\\anaconda3\\lib\\site-packages (from ipython>=5.0.0->ipykernel>=5.1.2; python_version >= \"3.4\"->pydeck) (46.1.3.post20200330)\n",
      "Requirement already satisfied: colorama; sys_platform == \"win32\" in c:\\users\\choon\\appdata\\local\\continuum\\anaconda3\\lib\\site-packages (from ipython>=5.0.0->ipykernel>=5.1.2; python_version >= \"3.4\"->pydeck) (0.4.3)\n",
      "Requirement already satisfied: pickleshare in c:\\users\\choon\\appdata\\local\\continuum\\anaconda3\\lib\\site-packages (from ipython>=5.0.0->ipykernel>=5.1.2; python_version >= \"3.4\"->pydeck) (0.7.5)\n",
      "Requirement already satisfied: jedi>=0.10 in c:\\users\\choon\\appdata\\local\\continuum\\anaconda3\\lib\\site-packages (from ipython>=5.0.0->ipykernel>=5.1.2; python_version >= \"3.4\"->pydeck) (0.15.2)\n",
      "Requirement already satisfied: backcall in c:\\users\\choon\\appdata\\local\\continuum\\anaconda3\\lib\\site-packages (from ipython>=5.0.0->ipykernel>=5.1.2; python_version >= \"3.4\"->pydeck) (0.1.0)\n",
      "Requirement already satisfied: notebook>=4.4.1 in c:\\users\\choon\\appdata\\local\\continuum\\anaconda3\\lib\\site-packages (from widgetsnbextension~=3.5.0->ipywidgets>=7.0.0->pydeck) (6.0.3)\n",
      "Requirement already satisfied: jsonschema!=2.5.0,>=2.4 in c:\\users\\choon\\appdata\\local\\continuum\\anaconda3\\lib\\site-packages (from nbformat>=4.2.0->ipywidgets>=7.0.0->pydeck) (3.2.0)\n",
      "Requirement already satisfied: pywin32>=1.0; sys_platform == \"win32\" in c:\\users\\choon\\appdata\\local\\continuum\\anaconda3\\lib\\site-packages (from jupyter-core>=4.6.0->jupyter-client->ipykernel>=5.1.2; python_version >= \"3.4\"->pydeck) (227)\n",
      "Requirement already satisfied: wcwidth in c:\\users\\choon\\appdata\\local\\continuum\\anaconda3\\lib\\site-packages (from prompt-toolkit!=3.0.0,!=3.0.1,<3.1.0,>=2.0.0->ipython>=5.0.0->ipykernel>=5.1.2; python_version >= \"3.4\"->pydeck) (0.1.9)\n",
      "Requirement already satisfied: parso>=0.5.2 in c:\\users\\choon\\appdata\\local\\continuum\\anaconda3\\lib\\site-packages (from jedi>=0.10->ipython>=5.0.0->ipykernel>=5.1.2; python_version >= \"3.4\"->pydeck) (0.5.2)\n",
      "Requirement already satisfied: terminado>=0.8.1 in c:\\users\\choon\\appdata\\local\\continuum\\anaconda3\\lib\\site-packages (from notebook>=4.4.1->widgetsnbextension~=3.5.0->ipywidgets>=7.0.0->pydeck) (0.8.3)\n",
      "Requirement already satisfied: Send2Trash in c:\\users\\choon\\appdata\\local\\continuum\\anaconda3\\lib\\site-packages (from notebook>=4.4.1->widgetsnbextension~=3.5.0->ipywidgets>=7.0.0->pydeck) (1.5.0)\n",
      "Requirement already satisfied: nbconvert in c:\\users\\choon\\appdata\\local\\continuum\\anaconda3\\lib\\site-packages (from notebook>=4.4.1->widgetsnbextension~=3.5.0->ipywidgets>=7.0.0->pydeck) (5.6.1)\n",
      "Requirement already satisfied: prometheus-client in c:\\users\\choon\\appdata\\local\\continuum\\anaconda3\\lib\\site-packages (from notebook>=4.4.1->widgetsnbextension~=3.5.0->ipywidgets>=7.0.0->pydeck) (0.7.1)\n",
      "Requirement already satisfied: importlib-metadata; python_version < \"3.8\" in c:\\users\\choon\\appdata\\local\\continuum\\anaconda3\\lib\\site-packages (from jsonschema!=2.5.0,>=2.4->nbformat>=4.2.0->ipywidgets>=7.0.0->pydeck) (2.0.0)\n",
      "Requirement already satisfied: attrs>=17.4.0 in c:\\users\\choon\\appdata\\local\\continuum\\anaconda3\\lib\\site-packages (from jsonschema!=2.5.0,>=2.4->nbformat>=4.2.0->ipywidgets>=7.0.0->pydeck) (19.3.0)\n",
      "Requirement already satisfied: pyrsistent>=0.14.0 in c:\\users\\choon\\appdata\\local\\continuum\\anaconda3\\lib\\site-packages (from jsonschema!=2.5.0,>=2.4->nbformat>=4.2.0->ipywidgets>=7.0.0->pydeck) (0.16.0)\n",
      "Requirement already satisfied: pandocfilters>=1.4.1 in c:\\users\\choon\\appdata\\local\\continuum\\anaconda3\\lib\\site-packages (from nbconvert->notebook>=4.4.1->widgetsnbextension~=3.5.0->ipywidgets>=7.0.0->pydeck) (1.4.2)\n",
      "Requirement already satisfied: bleach in c:\\users\\choon\\appdata\\local\\continuum\\anaconda3\\lib\\site-packages (from nbconvert->notebook>=4.4.1->widgetsnbextension~=3.5.0->ipywidgets>=7.0.0->pydeck) (3.1.4)\n",
      "Requirement already satisfied: mistune<2,>=0.8.1 in c:\\users\\choon\\appdata\\local\\continuum\\anaconda3\\lib\\site-packages (from nbconvert->notebook>=4.4.1->widgetsnbextension~=3.5.0->ipywidgets>=7.0.0->pydeck) (0.8.4)\n",
      "Requirement already satisfied: defusedxml in c:\\users\\choon\\appdata\\local\\continuum\\anaconda3\\lib\\site-packages (from nbconvert->notebook>=4.4.1->widgetsnbextension~=3.5.0->ipywidgets>=7.0.0->pydeck) (0.6.0)\n",
      "Requirement already satisfied: entrypoints>=0.2.2 in c:\\users\\choon\\appdata\\local\\continuum\\anaconda3\\lib\\site-packages (from nbconvert->notebook>=4.4.1->widgetsnbextension~=3.5.0->ipywidgets>=7.0.0->pydeck) (0.3)\n",
      "Requirement already satisfied: testpath in c:\\users\\choon\\appdata\\local\\continuum\\anaconda3\\lib\\site-packages (from nbconvert->notebook>=4.4.1->widgetsnbextension~=3.5.0->ipywidgets>=7.0.0->pydeck) (0.4.4)\n",
      "Requirement already satisfied: zipp>=0.5 in c:\\users\\choon\\appdata\\local\\continuum\\anaconda3\\lib\\site-packages (from importlib-metadata; python_version < \"3.8\"->jsonschema!=2.5.0,>=2.4->nbformat>=4.2.0->ipywidgets>=7.0.0->pydeck) (3.1.0)\n",
      "Requirement already satisfied: webencodings in c:\\users\\choon\\appdata\\local\\continuum\\anaconda3\\lib\\site-packages (from bleach->nbconvert->notebook>=4.4.1->widgetsnbextension~=3.5.0->ipywidgets>=7.0.0->pydeck) (0.5.1)\n",
      "Requirement already satisfied: streamlit in c:\\users\\choon\\appdata\\local\\continuum\\anaconda3\\lib\\site-packages (0.83.0)\n",
      "Requirement already satisfied: blinker in c:\\users\\choon\\appdata\\local\\continuum\\anaconda3\\lib\\site-packages (from streamlit) (1.4)\n",
      "Requirement already satisfied: base58 in c:\\users\\choon\\appdata\\local\\continuum\\anaconda3\\lib\\site-packages (from streamlit) (2.1.0)\n",
      "Requirement already satisfied: protobuf!=3.11,>=3.6.0 in c:\\users\\choon\\appdata\\local\\continuum\\anaconda3\\lib\\site-packages (from streamlit) (3.13.0)\n",
      "Requirement already satisfied: requests in c:\\users\\choon\\appdata\\local\\continuum\\anaconda3\\lib\\site-packages (from streamlit) (2.23.0)\n",
      "Requirement already satisfied: pyarrow; python_version < \"3.9\" in c:\\users\\choon\\appdata\\local\\continuum\\anaconda3\\lib\\site-packages (from streamlit) (4.0.1)\n",
      "Requirement already satisfied: pydeck>=0.1.dev5 in c:\\users\\choon\\appdata\\local\\continuum\\anaconda3\\lib\\site-packages (from streamlit) (0.6.2)\n",
      "Requirement already satisfied: numpy in c:\\users\\choon\\appdata\\local\\continuum\\anaconda3\\lib\\site-packages (from streamlit) (1.18.4)\n",
      "Requirement already satisfied: toml in c:\\users\\choon\\appdata\\local\\continuum\\anaconda3\\lib\\site-packages (from streamlit) (0.10.0)\n",
      "Requirement already satisfied: astor in c:\\users\\choon\\appdata\\local\\continuum\\anaconda3\\lib\\site-packages (from streamlit) (0.8.1)\n",
      "Requirement already satisfied: pillow>=6.2.0 in c:\\users\\choon\\appdata\\local\\continuum\\anaconda3\\lib\\site-packages (from streamlit) (7.1.2)\n",
      "Requirement already satisfied: cachetools>=4.0 in c:\\users\\choon\\appdata\\local\\continuum\\anaconda3\\lib\\site-packages (from streamlit) (4.1.1)\n"
     ]
    },
    {
     "name": "stderr",
     "output_type": "stream",
     "text": [
      "WARNING: You are using pip version 20.1; however, version 21.1.2 is available.\n",
      "You should consider upgrading via the 'c:\\users\\choon\\appdata\\local\\continuum\\anaconda3\\python.exe -m pip install --upgrade pip' command.\n"
     ]
    },
    {
     "name": "stdout",
     "output_type": "stream",
     "text": [
      "Requirement already satisfied: watchdog; platform_system != \"Darwin\" in c:\\users\\choon\\appdata\\local\\continuum\\anaconda3\\lib\\site-packages (from streamlit) (0.10.2)\n",
      "Requirement already satisfied: tzlocal in c:\\users\\choon\\appdata\\local\\continuum\\anaconda3\\lib\\site-packages (from streamlit) (2.1)\n",
      "Requirement already satisfied: python-dateutil in c:\\users\\choon\\appdata\\local\\continuum\\anaconda3\\lib\\site-packages (from streamlit) (2.8.1)\n",
      "Requirement already satisfied: gitpython in c:\\users\\choon\\appdata\\local\\continuum\\anaconda3\\lib\\site-packages (from streamlit) (3.1.18)\n",
      "Requirement already satisfied: packaging in c:\\users\\choon\\appdata\\local\\continuum\\anaconda3\\lib\\site-packages (from streamlit) (20.3)\n",
      "Requirement already satisfied: pandas>=0.21.0 in c:\\users\\choon\\appdata\\local\\continuum\\anaconda3\\lib\\site-packages (from streamlit) (1.0.3)\n",
      "Requirement already satisfied: tornado>=5.0 in c:\\users\\choon\\appdata\\local\\continuum\\anaconda3\\lib\\site-packages (from streamlit) (6.0.4)\n",
      "Requirement already satisfied: altair>=3.2.0 in c:\\users\\choon\\appdata\\local\\continuum\\anaconda3\\lib\\site-packages (from streamlit) (4.1.0)\n",
      "Requirement already satisfied: validators in c:\\users\\choon\\appdata\\local\\continuum\\anaconda3\\lib\\site-packages (from streamlit) (0.18.2)\n",
      "Requirement already satisfied: click<8.0,>=7.0 in c:\\users\\choon\\appdata\\local\\continuum\\anaconda3\\lib\\site-packages (from streamlit) (7.1.1)\n",
      "Requirement already satisfied: setuptools in c:\\users\\choon\\appdata\\local\\continuum\\anaconda3\\lib\\site-packages (from protobuf!=3.11,>=3.6.0->streamlit) (46.1.3.post20200330)\n",
      "Requirement already satisfied: six>=1.9 in c:\\users\\choon\\appdata\\local\\continuum\\anaconda3\\lib\\site-packages (from protobuf!=3.11,>=3.6.0->streamlit) (1.14.0)\n",
      "Requirement already satisfied: urllib3!=1.25.0,!=1.25.1,<1.26,>=1.21.1 in c:\\users\\choon\\appdata\\local\\continuum\\anaconda3\\lib\\site-packages (from requests->streamlit) (1.25.8)\n",
      "Requirement already satisfied: certifi>=2017.4.17 in c:\\users\\choon\\appdata\\local\\continuum\\anaconda3\\lib\\site-packages (from requests->streamlit) (2020.6.20)\n",
      "Requirement already satisfied: idna<3,>=2.5 in c:\\users\\choon\\appdata\\local\\continuum\\anaconda3\\lib\\site-packages (from requests->streamlit) (2.9)\n",
      "Requirement already satisfied: chardet<4,>=3.0.2 in c:\\users\\choon\\appdata\\local\\continuum\\anaconda3\\lib\\site-packages (from requests->streamlit) (3.0.4)\n",
      "Requirement already satisfied: ipykernel>=5.1.2; python_version >= \"3.4\" in c:\\users\\choon\\appdata\\local\\continuum\\anaconda3\\lib\\site-packages (from pydeck>=0.1.dev5->streamlit) (5.1.4)\n",
      "Requirement already satisfied: ipywidgets>=7.0.0 in c:\\users\\choon\\appdata\\local\\continuum\\anaconda3\\lib\\site-packages (from pydeck>=0.1.dev5->streamlit) (7.5.1)\n",
      "Requirement already satisfied: traitlets>=4.3.2 in c:\\users\\choon\\appdata\\local\\continuum\\anaconda3\\lib\\site-packages (from pydeck>=0.1.dev5->streamlit) (4.3.3)\n",
      "Requirement already satisfied: jinja2>=2.10.1 in c:\\users\\choon\\appdata\\local\\continuum\\anaconda3\\lib\\site-packages (from pydeck>=0.1.dev5->streamlit) (2.11.2)\n",
      "Requirement already satisfied: pathtools>=0.1.1 in c:\\users\\choon\\appdata\\local\\continuum\\anaconda3\\lib\\site-packages (from watchdog; platform_system != \"Darwin\"->streamlit) (0.1.2)\n",
      "Requirement already satisfied: pytz in c:\\users\\choon\\appdata\\local\\continuum\\anaconda3\\lib\\site-packages (from tzlocal->streamlit) (2020.1)\n",
      "Requirement already satisfied: gitdb<5,>=4.0.1 in c:\\users\\choon\\appdata\\local\\continuum\\anaconda3\\lib\\site-packages (from gitpython->streamlit) (4.0.7)\n",
      "Requirement already satisfied: typing-extensions>=3.7.4.0; python_version < \"3.8\" in c:\\users\\choon\\appdata\\local\\continuum\\anaconda3\\lib\\site-packages (from gitpython->streamlit) (3.7.4.1)\n",
      "Requirement already satisfied: pyparsing>=2.0.2 in c:\\users\\choon\\appdata\\local\\continuum\\anaconda3\\lib\\site-packages (from packaging->streamlit) (2.4.7)\n",
      "Requirement already satisfied: jsonschema in c:\\users\\choon\\appdata\\local\\continuum\\anaconda3\\lib\\site-packages (from altair>=3.2.0->streamlit) (3.2.0)\n",
      "Requirement already satisfied: toolz in c:\\users\\choon\\appdata\\local\\continuum\\anaconda3\\lib\\site-packages (from altair>=3.2.0->streamlit) (0.10.0)\n",
      "Requirement already satisfied: entrypoints in c:\\users\\choon\\appdata\\local\\continuum\\anaconda3\\lib\\site-packages (from altair>=3.2.0->streamlit) (0.3)\n",
      "Requirement already satisfied: decorator>=3.4.0 in c:\\users\\choon\\appdata\\local\\continuum\\anaconda3\\lib\\site-packages (from validators->streamlit) (4.4.2)\n",
      "Requirement already satisfied: jupyter-client in c:\\users\\choon\\appdata\\local\\continuum\\anaconda3\\lib\\site-packages (from ipykernel>=5.1.2; python_version >= \"3.4\"->pydeck>=0.1.dev5->streamlit) (6.1.3)\n",
      "Requirement already satisfied: ipython>=5.0.0 in c:\\users\\choon\\appdata\\local\\continuum\\anaconda3\\lib\\site-packages (from ipykernel>=5.1.2; python_version >= \"3.4\"->pydeck>=0.1.dev5->streamlit) (7.13.0)\n",
      "Requirement already satisfied: nbformat>=4.2.0 in c:\\users\\choon\\appdata\\local\\continuum\\anaconda3\\lib\\site-packages (from ipywidgets>=7.0.0->pydeck>=0.1.dev5->streamlit) (5.0.4)\n",
      "Requirement already satisfied: widgetsnbextension~=3.5.0 in c:\\users\\choon\\appdata\\local\\continuum\\anaconda3\\lib\\site-packages (from ipywidgets>=7.0.0->pydeck>=0.1.dev5->streamlit) (3.5.1)\n",
      "Requirement already satisfied: ipython-genutils in c:\\users\\choon\\appdata\\local\\continuum\\anaconda3\\lib\\site-packages (from traitlets>=4.3.2->pydeck>=0.1.dev5->streamlit) (0.2.0)\n",
      "Requirement already satisfied: MarkupSafe>=0.23 in c:\\users\\choon\\appdata\\local\\continuum\\anaconda3\\lib\\site-packages (from jinja2>=2.10.1->pydeck>=0.1.dev5->streamlit) (1.1.1)\n",
      "Requirement already satisfied: smmap<5,>=3.0.1 in c:\\users\\choon\\appdata\\local\\continuum\\anaconda3\\lib\\site-packages (from gitdb<5,>=4.0.1->gitpython->streamlit) (4.0.0)\n",
      "Requirement already satisfied: importlib-metadata; python_version < \"3.8\" in c:\\users\\choon\\appdata\\local\\continuum\\anaconda3\\lib\\site-packages (from jsonschema->altair>=3.2.0->streamlit) (2.0.0)\n",
      "Requirement already satisfied: attrs>=17.4.0 in c:\\users\\choon\\appdata\\local\\continuum\\anaconda3\\lib\\site-packages (from jsonschema->altair>=3.2.0->streamlit) (19.3.0)\n",
      "Requirement already satisfied: pyrsistent>=0.14.0 in c:\\users\\choon\\appdata\\local\\continuum\\anaconda3\\lib\\site-packages (from jsonschema->altair>=3.2.0->streamlit) (0.16.0)\n",
      "Requirement already satisfied: jupyter-core>=4.6.0 in c:\\users\\choon\\appdata\\local\\continuum\\anaconda3\\lib\\site-packages (from jupyter-client->ipykernel>=5.1.2; python_version >= \"3.4\"->pydeck>=0.1.dev5->streamlit) (4.6.3)\n",
      "Requirement already satisfied: pyzmq>=13 in c:\\users\\choon\\appdata\\local\\continuum\\anaconda3\\lib\\site-packages (from jupyter-client->ipykernel>=5.1.2; python_version >= \"3.4\"->pydeck>=0.1.dev5->streamlit) (18.1.1)\n",
      "Requirement already satisfied: pygments in c:\\users\\choon\\appdata\\local\\continuum\\anaconda3\\lib\\site-packages (from ipython>=5.0.0->ipykernel>=5.1.2; python_version >= \"3.4\"->pydeck>=0.1.dev5->streamlit) (2.6.1)\n",
      "Requirement already satisfied: jedi>=0.10 in c:\\users\\choon\\appdata\\local\\continuum\\anaconda3\\lib\\site-packages (from ipython>=5.0.0->ipykernel>=5.1.2; python_version >= \"3.4\"->pydeck>=0.1.dev5->streamlit) (0.15.2)\n",
      "Requirement already satisfied: colorama; sys_platform == \"win32\" in c:\\users\\choon\\appdata\\local\\continuum\\anaconda3\\lib\\site-packages (from ipython>=5.0.0->ipykernel>=5.1.2; python_version >= \"3.4\"->pydeck>=0.1.dev5->streamlit) (0.4.3)\n",
      "Requirement already satisfied: prompt-toolkit!=3.0.0,!=3.0.1,<3.1.0,>=2.0.0 in c:\\users\\choon\\appdata\\local\\continuum\\anaconda3\\lib\\site-packages (from ipython>=5.0.0->ipykernel>=5.1.2; python_version >= \"3.4\"->pydeck>=0.1.dev5->streamlit) (3.0.4)\n",
      "Requirement already satisfied: pickleshare in c:\\users\\choon\\appdata\\local\\continuum\\anaconda3\\lib\\site-packages (from ipython>=5.0.0->ipykernel>=5.1.2; python_version >= \"3.4\"->pydeck>=0.1.dev5->streamlit) (0.7.5)\n",
      "Requirement already satisfied: backcall in c:\\users\\choon\\appdata\\local\\continuum\\anaconda3\\lib\\site-packages (from ipython>=5.0.0->ipykernel>=5.1.2; python_version >= \"3.4\"->pydeck>=0.1.dev5->streamlit) (0.1.0)\n",
      "Requirement already satisfied: notebook>=4.4.1 in c:\\users\\choon\\appdata\\local\\continuum\\anaconda3\\lib\\site-packages (from widgetsnbextension~=3.5.0->ipywidgets>=7.0.0->pydeck>=0.1.dev5->streamlit) (6.0.3)\n",
      "Requirement already satisfied: zipp>=0.5 in c:\\users\\choon\\appdata\\local\\continuum\\anaconda3\\lib\\site-packages (from importlib-metadata; python_version < \"3.8\"->jsonschema->altair>=3.2.0->streamlit) (3.1.0)\n",
      "Requirement already satisfied: pywin32>=1.0; sys_platform == \"win32\" in c:\\users\\choon\\appdata\\local\\continuum\\anaconda3\\lib\\site-packages (from jupyter-core>=4.6.0->jupyter-client->ipykernel>=5.1.2; python_version >= \"3.4\"->pydeck>=0.1.dev5->streamlit) (227)\n",
      "Requirement already satisfied: parso>=0.5.2 in c:\\users\\choon\\appdata\\local\\continuum\\anaconda3\\lib\\site-packages (from jedi>=0.10->ipython>=5.0.0->ipykernel>=5.1.2; python_version >= \"3.4\"->pydeck>=0.1.dev5->streamlit) (0.5.2)\n",
      "Requirement already satisfied: wcwidth in c:\\users\\choon\\appdata\\local\\continuum\\anaconda3\\lib\\site-packages (from prompt-toolkit!=3.0.0,!=3.0.1,<3.1.0,>=2.0.0->ipython>=5.0.0->ipykernel>=5.1.2; python_version >= \"3.4\"->pydeck>=0.1.dev5->streamlit) (0.1.9)\n",
      "Requirement already satisfied: prometheus-client in c:\\users\\choon\\appdata\\local\\continuum\\anaconda3\\lib\\site-packages (from notebook>=4.4.1->widgetsnbextension~=3.5.0->ipywidgets>=7.0.0->pydeck>=0.1.dev5->streamlit) (0.7.1)\n",
      "Requirement already satisfied: nbconvert in c:\\users\\choon\\appdata\\local\\continuum\\anaconda3\\lib\\site-packages (from notebook>=4.4.1->widgetsnbextension~=3.5.0->ipywidgets>=7.0.0->pydeck>=0.1.dev5->streamlit) (5.6.1)\n",
      "Requirement already satisfied: Send2Trash in c:\\users\\choon\\appdata\\local\\continuum\\anaconda3\\lib\\site-packages (from notebook>=4.4.1->widgetsnbextension~=3.5.0->ipywidgets>=7.0.0->pydeck>=0.1.dev5->streamlit) (1.5.0)\n",
      "Requirement already satisfied: terminado>=0.8.1 in c:\\users\\choon\\appdata\\local\\continuum\\anaconda3\\lib\\site-packages (from notebook>=4.4.1->widgetsnbextension~=3.5.0->ipywidgets>=7.0.0->pydeck>=0.1.dev5->streamlit) (0.8.3)\n",
      "Requirement already satisfied: defusedxml in c:\\users\\choon\\appdata\\local\\continuum\\anaconda3\\lib\\site-packages (from nbconvert->notebook>=4.4.1->widgetsnbextension~=3.5.0->ipywidgets>=7.0.0->pydeck>=0.1.dev5->streamlit) (0.6.0)\n",
      "Requirement already satisfied: pandocfilters>=1.4.1 in c:\\users\\choon\\appdata\\local\\continuum\\anaconda3\\lib\\site-packages (from nbconvert->notebook>=4.4.1->widgetsnbextension~=3.5.0->ipywidgets>=7.0.0->pydeck>=0.1.dev5->streamlit) (1.4.2)\n",
      "Requirement already satisfied: bleach in c:\\users\\choon\\appdata\\local\\continuum\\anaconda3\\lib\\site-packages (from nbconvert->notebook>=4.4.1->widgetsnbextension~=3.5.0->ipywidgets>=7.0.0->pydeck>=0.1.dev5->streamlit) (3.1.4)\n",
      "Requirement already satisfied: mistune<2,>=0.8.1 in c:\\users\\choon\\appdata\\local\\continuum\\anaconda3\\lib\\site-packages (from nbconvert->notebook>=4.4.1->widgetsnbextension~=3.5.0->ipywidgets>=7.0.0->pydeck>=0.1.dev5->streamlit) (0.8.4)\n",
      "Requirement already satisfied: testpath in c:\\users\\choon\\appdata\\local\\continuum\\anaconda3\\lib\\site-packages (from nbconvert->notebook>=4.4.1->widgetsnbextension~=3.5.0->ipywidgets>=7.0.0->pydeck>=0.1.dev5->streamlit) (0.4.4)\n",
      "Requirement already satisfied: webencodings in c:\\users\\choon\\appdata\\local\\continuum\\anaconda3\\lib\\site-packages (from bleach->nbconvert->notebook>=4.4.1->widgetsnbextension~=3.5.0->ipywidgets>=7.0.0->pydeck>=0.1.dev5->streamlit) (0.5.1)\n"
     ]
    }
   ],
   "source": [
    "!pip install pydeck\n",
    "!pip install streamlit"
   ]
  },
  {
   "cell_type": "code",
   "execution_count": 5,
   "metadata": {},
   "outputs": [],
   "source": [
    "import numpy as np\n",
    "import pandas as pd\n",
    "import time\n",
    "import streamlit as st\n",
    "import requests\n",
    "import pydeck as pdk\n",
    "import json"
   ]
  },
  {
   "cell_type": "code",
   "execution_count": 6,
   "metadata": {},
   "outputs": [],
   "source": [
    "weather_data = requests.get(\"https://api.data.gov.sg/v1/environment/pm25\").json()"
   ]
  },
  {
   "cell_type": "code",
   "execution_count": 7,
   "metadata": {},
   "outputs": [
    {
     "data": {
      "text/plain": [
       "{'region_metadata': [{'name': 'west',\n",
       "   'label_location': {'latitude': 1.35735, 'longitude': 103.7}},\n",
       "  {'name': 'east',\n",
       "   'label_location': {'latitude': 1.35735, 'longitude': 103.94}},\n",
       "  {'name': 'central',\n",
       "   'label_location': {'latitude': 1.35735, 'longitude': 103.82}},\n",
       "  {'name': 'south',\n",
       "   'label_location': {'latitude': 1.29587, 'longitude': 103.82}},\n",
       "  {'name': 'north',\n",
       "   'label_location': {'latitude': 1.41803, 'longitude': 103.82}}],\n",
       " 'items': [{'timestamp': '2021-06-26T14:00:00+08:00',\n",
       "   'update_timestamp': '2021-06-26T14:08:53+08:00',\n",
       "   'readings': {'pm25_one_hourly': {'west': 5,\n",
       "     'east': 7,\n",
       "     'central': 16,\n",
       "     'south': 22,\n",
       "     'north': 9}}}],\n",
       " 'api_info': {'status': 'healthy'}}"
      ]
     },
     "execution_count": 7,
     "metadata": {},
     "output_type": "execute_result"
    }
   ],
   "source": [
    "weather_data"
   ]
  },
  {
   "cell_type": "code",
   "execution_count": 8,
   "metadata": {},
   "outputs": [
    {
     "data": {
      "text/plain": [
       "[{'name': 'west', 'label_location': {'latitude': 1.35735, 'longitude': 103.7}},\n",
       " {'name': 'east',\n",
       "  'label_location': {'latitude': 1.35735, 'longitude': 103.94}},\n",
       " {'name': 'central',\n",
       "  'label_location': {'latitude': 1.35735, 'longitude': 103.82}},\n",
       " {'name': 'south',\n",
       "  'label_location': {'latitude': 1.29587, 'longitude': 103.82}},\n",
       " {'name': 'north',\n",
       "  'label_location': {'latitude': 1.41803, 'longitude': 103.82}}]"
      ]
     },
     "execution_count": 8,
     "metadata": {},
     "output_type": "execute_result"
    }
   ],
   "source": [
    "region_info = weather_data[\"region_metadata\"]\n",
    "region_info"
   ]
  },
  {
   "cell_type": "code",
   "execution_count": 9,
   "metadata": {},
   "outputs": [
    {
     "data": {
      "text/html": [
       "<div>\n",
       "<style scoped>\n",
       "    .dataframe tbody tr th:only-of-type {\n",
       "        vertical-align: middle;\n",
       "    }\n",
       "\n",
       "    .dataframe tbody tr th {\n",
       "        vertical-align: top;\n",
       "    }\n",
       "\n",
       "    .dataframe thead th {\n",
       "        text-align: right;\n",
       "    }\n",
       "</style>\n",
       "<table border=\"1\" class=\"dataframe\">\n",
       "  <thead>\n",
       "    <tr style=\"text-align: right;\">\n",
       "      <th></th>\n",
       "      <th>name</th>\n",
       "      <th>label_location</th>\n",
       "    </tr>\n",
       "  </thead>\n",
       "  <tbody>\n",
       "    <tr>\n",
       "      <th>0</th>\n",
       "      <td>west</td>\n",
       "      <td>{'latitude': 1.35735, 'longitude': 103.7}</td>\n",
       "    </tr>\n",
       "    <tr>\n",
       "      <th>1</th>\n",
       "      <td>east</td>\n",
       "      <td>{'latitude': 1.35735, 'longitude': 103.94}</td>\n",
       "    </tr>\n",
       "    <tr>\n",
       "      <th>2</th>\n",
       "      <td>central</td>\n",
       "      <td>{'latitude': 1.35735, 'longitude': 103.82}</td>\n",
       "    </tr>\n",
       "    <tr>\n",
       "      <th>3</th>\n",
       "      <td>south</td>\n",
       "      <td>{'latitude': 1.29587, 'longitude': 103.82}</td>\n",
       "    </tr>\n",
       "    <tr>\n",
       "      <th>4</th>\n",
       "      <td>north</td>\n",
       "      <td>{'latitude': 1.41803, 'longitude': 103.82}</td>\n",
       "    </tr>\n",
       "  </tbody>\n",
       "</table>\n",
       "</div>"
      ],
      "text/plain": [
       "      name                              label_location\n",
       "0     west   {'latitude': 1.35735, 'longitude': 103.7}\n",
       "1     east  {'latitude': 1.35735, 'longitude': 103.94}\n",
       "2  central  {'latitude': 1.35735, 'longitude': 103.82}\n",
       "3    south  {'latitude': 1.29587, 'longitude': 103.82}\n",
       "4    north  {'latitude': 1.41803, 'longitude': 103.82}"
      ]
     },
     "execution_count": 9,
     "metadata": {},
     "output_type": "execute_result"
    }
   ],
   "source": [
    "region_info = pd.DataFrame.from_dict(weather_data[\"region_metadata\"])\n",
    "region_info"
   ]
  },
  {
   "cell_type": "code",
   "execution_count": 10,
   "metadata": {},
   "outputs": [],
   "source": [
    "region_info['label_location'].apply(pd.Series)\n",
    "region_info = pd.concat([region_info.drop(['label_location'],axis=1),region_info['label_location'].apply(pd.Series)],axis=1)"
   ]
  },
  {
   "cell_type": "code",
   "execution_count": 11,
   "metadata": {},
   "outputs": [],
   "source": [
    "mdpt_lon = region_info['longitude'].mean()\n",
    "mdpt_lat = region_info['latitude'].mean()"
   ]
  },
  {
   "cell_type": "code",
   "execution_count": 12,
   "metadata": {},
   "outputs": [
    {
     "data": {
      "text/plain": [
       "103.82"
      ]
     },
     "execution_count": 12,
     "metadata": {},
     "output_type": "execute_result"
    }
   ],
   "source": [
    "round(mdpt_lon,2)"
   ]
  },
  {
   "cell_type": "code",
   "execution_count": 13,
   "metadata": {},
   "outputs": [],
   "source": [
    "pm_readings = weather_data['items']\n",
    "pm_readings = pm_readings[0]\n",
    "# convert the readings to "
   ]
  },
  {
   "cell_type": "code",
   "execution_count": 14,
   "metadata": {
    "scrolled": true
   },
   "outputs": [
    {
     "data": {
      "text/html": [
       "<div>\n",
       "<style scoped>\n",
       "    .dataframe tbody tr th:only-of-type {\n",
       "        vertical-align: middle;\n",
       "    }\n",
       "\n",
       "    .dataframe tbody tr th {\n",
       "        vertical-align: top;\n",
       "    }\n",
       "\n",
       "    .dataframe thead th {\n",
       "        text-align: right;\n",
       "    }\n",
       "</style>\n",
       "<table border=\"1\" class=\"dataframe\">\n",
       "  <thead>\n",
       "    <tr style=\"text-align: right;\">\n",
       "      <th></th>\n",
       "      <th>west</th>\n",
       "      <th>east</th>\n",
       "      <th>central</th>\n",
       "      <th>south</th>\n",
       "      <th>north</th>\n",
       "    </tr>\n",
       "  </thead>\n",
       "  <tbody>\n",
       "    <tr>\n",
       "      <th>pm25_one_hourly</th>\n",
       "      <td>5</td>\n",
       "      <td>7</td>\n",
       "      <td>16</td>\n",
       "      <td>22</td>\n",
       "      <td>9</td>\n",
       "    </tr>\n",
       "  </tbody>\n",
       "</table>\n",
       "</div>"
      ],
      "text/plain": [
       "                 west  east  central  south  north\n",
       "pm25_one_hourly     5     7       16     22      9"
      ]
     },
     "execution_count": 14,
     "metadata": {},
     "output_type": "execute_result"
    }
   ],
   "source": [
    "#processing the pm_readings \n",
    "pm_info = pd.DataFrame.from_dict(weather_data['items'][0])\n",
    "pm_info['readings'].apply(pd.Series)"
   ]
  },
  {
   "cell_type": "code",
   "execution_count": 15,
   "metadata": {},
   "outputs": [
    {
     "data": {
      "text/html": [
       "<div>\n",
       "<style scoped>\n",
       "    .dataframe tbody tr th:only-of-type {\n",
       "        vertical-align: middle;\n",
       "    }\n",
       "\n",
       "    .dataframe tbody tr th {\n",
       "        vertical-align: top;\n",
       "    }\n",
       "\n",
       "    .dataframe thead th {\n",
       "        text-align: right;\n",
       "    }\n",
       "</style>\n",
       "<table border=\"1\" class=\"dataframe\">\n",
       "  <thead>\n",
       "    <tr style=\"text-align: right;\">\n",
       "      <th></th>\n",
       "      <th>timestamp</th>\n",
       "      <th>update_timestamp</th>\n",
       "    </tr>\n",
       "  </thead>\n",
       "  <tbody>\n",
       "    <tr>\n",
       "      <th>pm25_one_hourly</th>\n",
       "      <td>2021-06-26T14:00:00+08:00</td>\n",
       "      <td>2021-06-26T14:08:53+08:00</td>\n",
       "    </tr>\n",
       "  </tbody>\n",
       "</table>\n",
       "</div>"
      ],
      "text/plain": [
       "                                 timestamp           update_timestamp\n",
       "pm25_one_hourly  2021-06-26T14:00:00+08:00  2021-06-26T14:08:53+08:00"
      ]
     },
     "execution_count": 15,
     "metadata": {},
     "output_type": "execute_result"
    }
   ],
   "source": [
    "pm_info.drop(['readings'],axis=1)"
   ]
  },
  {
   "cell_type": "code",
   "execution_count": 16,
   "metadata": {
    "scrolled": true
   },
   "outputs": [],
   "source": [
    "pm_info = pd.concat([pm_info.drop(['readings'],axis=1),pm_info['readings'].apply(pd.Series)],axis=1)"
   ]
  },
  {
   "cell_type": "code",
   "execution_count": 17,
   "metadata": {},
   "outputs": [
    {
     "data": {
      "text/html": [
       "<div>\n",
       "<style scoped>\n",
       "    .dataframe tbody tr th:only-of-type {\n",
       "        vertical-align: middle;\n",
       "    }\n",
       "\n",
       "    .dataframe tbody tr th {\n",
       "        vertical-align: top;\n",
       "    }\n",
       "\n",
       "    .dataframe thead th {\n",
       "        text-align: right;\n",
       "    }\n",
       "</style>\n",
       "<table border=\"1\" class=\"dataframe\">\n",
       "  <thead>\n",
       "    <tr style=\"text-align: right;\">\n",
       "      <th></th>\n",
       "      <th>timestamp</th>\n",
       "      <th>update_timestamp</th>\n",
       "      <th>west</th>\n",
       "      <th>east</th>\n",
       "      <th>central</th>\n",
       "      <th>south</th>\n",
       "      <th>north</th>\n",
       "    </tr>\n",
       "  </thead>\n",
       "  <tbody>\n",
       "    <tr>\n",
       "      <th>pm25_one_hourly</th>\n",
       "      <td>2021-06-26T14:00:00+08:00</td>\n",
       "      <td>2021-06-26T14:08:53+08:00</td>\n",
       "      <td>5</td>\n",
       "      <td>7</td>\n",
       "      <td>16</td>\n",
       "      <td>22</td>\n",
       "      <td>9</td>\n",
       "    </tr>\n",
       "  </tbody>\n",
       "</table>\n",
       "</div>"
      ],
      "text/plain": [
       "                                 timestamp           update_timestamp  west  \\\n",
       "pm25_one_hourly  2021-06-26T14:00:00+08:00  2021-06-26T14:08:53+08:00     5   \n",
       "\n",
       "                 east  central  south  north  \n",
       "pm25_one_hourly     7       16     22      9  "
      ]
     },
     "execution_count": 17,
     "metadata": {},
     "output_type": "execute_result"
    }
   ],
   "source": [
    "pm_info"
   ]
  },
  {
   "cell_type": "code",
   "execution_count": 18,
   "metadata": {},
   "outputs": [],
   "source": [
    "pm = pm_info[['west','east','central','south','north']].T.reset_index()\n",
    "pm = pm.rename(columns={\"index\":\"region\"})"
   ]
  },
  {
   "cell_type": "code",
   "execution_count": 19,
   "metadata": {},
   "outputs": [
    {
     "data": {
      "text/html": [
       "<div>\n",
       "<style scoped>\n",
       "    .dataframe tbody tr th:only-of-type {\n",
       "        vertical-align: middle;\n",
       "    }\n",
       "\n",
       "    .dataframe tbody tr th {\n",
       "        vertical-align: top;\n",
       "    }\n",
       "\n",
       "    .dataframe thead th {\n",
       "        text-align: right;\n",
       "    }\n",
       "</style>\n",
       "<table border=\"1\" class=\"dataframe\">\n",
       "  <thead>\n",
       "    <tr style=\"text-align: right;\">\n",
       "      <th></th>\n",
       "      <th>name</th>\n",
       "      <th>latitude</th>\n",
       "      <th>longitude</th>\n",
       "      <th>region</th>\n",
       "      <th>pm25_one_hourly</th>\n",
       "    </tr>\n",
       "  </thead>\n",
       "  <tbody>\n",
       "    <tr>\n",
       "      <th>0</th>\n",
       "      <td>west</td>\n",
       "      <td>1.35735</td>\n",
       "      <td>103.70</td>\n",
       "      <td>west</td>\n",
       "      <td>5</td>\n",
       "    </tr>\n",
       "    <tr>\n",
       "      <th>1</th>\n",
       "      <td>east</td>\n",
       "      <td>1.35735</td>\n",
       "      <td>103.94</td>\n",
       "      <td>east</td>\n",
       "      <td>7</td>\n",
       "    </tr>\n",
       "    <tr>\n",
       "      <th>2</th>\n",
       "      <td>central</td>\n",
       "      <td>1.35735</td>\n",
       "      <td>103.82</td>\n",
       "      <td>central</td>\n",
       "      <td>16</td>\n",
       "    </tr>\n",
       "    <tr>\n",
       "      <th>3</th>\n",
       "      <td>south</td>\n",
       "      <td>1.29587</td>\n",
       "      <td>103.82</td>\n",
       "      <td>south</td>\n",
       "      <td>22</td>\n",
       "    </tr>\n",
       "    <tr>\n",
       "      <th>4</th>\n",
       "      <td>north</td>\n",
       "      <td>1.41803</td>\n",
       "      <td>103.82</td>\n",
       "      <td>north</td>\n",
       "      <td>9</td>\n",
       "    </tr>\n",
       "  </tbody>\n",
       "</table>\n",
       "</div>"
      ],
      "text/plain": [
       "      name  latitude  longitude   region  pm25_one_hourly\n",
       "0     west   1.35735     103.70     west                5\n",
       "1     east   1.35735     103.94     east                7\n",
       "2  central   1.35735     103.82  central               16\n",
       "3    south   1.29587     103.82    south               22\n",
       "4    north   1.41803     103.82    north                9"
      ]
     },
     "execution_count": 19,
     "metadata": {},
     "output_type": "execute_result"
    }
   ],
   "source": [
    "df = region_info.merge(pm,left_on=\"name\",right_on=\"region\")\n",
    "df"
   ]
  },
  {
   "cell_type": "code",
   "execution_count": 25,
   "metadata": {},
   "outputs": [
    {
     "data": {
      "text/plain": [
       "4    9\n",
       "Name: pm25_one_hourly, dtype: int64"
      ]
     },
     "execution_count": 25,
     "metadata": {},
     "output_type": "execute_result"
    }
   ],
   "source": [
    "df[df['name']=='north']['pm25_one_hourly']"
   ]
  },
  {
   "cell_type": "code",
   "execution_count": 20,
   "metadata": {},
   "outputs": [
    {
     "data": {
      "text/html": [
       "<div>\n",
       "<style scoped>\n",
       "    .dataframe tbody tr th:only-of-type {\n",
       "        vertical-align: middle;\n",
       "    }\n",
       "\n",
       "    .dataframe tbody tr th {\n",
       "        vertical-align: top;\n",
       "    }\n",
       "\n",
       "    .dataframe thead th {\n",
       "        text-align: right;\n",
       "    }\n",
       "</style>\n",
       "<table border=\"1\" class=\"dataframe\">\n",
       "  <thead>\n",
       "    <tr style=\"text-align: right;\">\n",
       "      <th></th>\n",
       "      <th>name</th>\n",
       "      <th>latitude</th>\n",
       "      <th>longitude</th>\n",
       "      <th>pm25_one_hourly</th>\n",
       "    </tr>\n",
       "  </thead>\n",
       "  <tbody>\n",
       "    <tr>\n",
       "      <th>0</th>\n",
       "      <td>west</td>\n",
       "      <td>1.35735</td>\n",
       "      <td>103.70</td>\n",
       "      <td>5</td>\n",
       "    </tr>\n",
       "    <tr>\n",
       "      <th>1</th>\n",
       "      <td>east</td>\n",
       "      <td>1.35735</td>\n",
       "      <td>103.94</td>\n",
       "      <td>7</td>\n",
       "    </tr>\n",
       "    <tr>\n",
       "      <th>2</th>\n",
       "      <td>central</td>\n",
       "      <td>1.35735</td>\n",
       "      <td>103.82</td>\n",
       "      <td>16</td>\n",
       "    </tr>\n",
       "    <tr>\n",
       "      <th>3</th>\n",
       "      <td>south</td>\n",
       "      <td>1.29587</td>\n",
       "      <td>103.82</td>\n",
       "      <td>22</td>\n",
       "    </tr>\n",
       "    <tr>\n",
       "      <th>4</th>\n",
       "      <td>north</td>\n",
       "      <td>1.41803</td>\n",
       "      <td>103.82</td>\n",
       "      <td>9</td>\n",
       "    </tr>\n",
       "  </tbody>\n",
       "</table>\n",
       "</div>"
      ],
      "text/plain": [
       "      name  latitude  longitude  pm25_one_hourly\n",
       "0     west   1.35735     103.70                5\n",
       "1     east   1.35735     103.94                7\n",
       "2  central   1.35735     103.82               16\n",
       "3    south   1.29587     103.82               22\n",
       "4    north   1.41803     103.82                9"
      ]
     },
     "execution_count": 20,
     "metadata": {},
     "output_type": "execute_result"
    }
   ],
   "source": [
    "df.drop(['region'],axis=1)"
   ]
  },
  {
   "cell_type": "markdown",
   "metadata": {},
   "source": [
    "### Doing analysis for UV"
   ]
  },
  {
   "cell_type": "code",
   "execution_count": 3,
   "metadata": {},
   "outputs": [
    {
     "data": {
      "text/plain": [
       "{'items': [{'timestamp': '2021-06-26T13:00:00+08:00',\n",
       "   'update_timestamp': '2021-06-26T13:08:07+08:00',\n",
       "   'index': [{'value': 5, 'timestamp': '2021-06-26T13:00:00+08:00'},\n",
       "    {'value': 1, 'timestamp': '2021-06-26T12:00:00+08:00'},\n",
       "    {'value': 1, 'timestamp': '2021-06-26T11:00:00+08:00'},\n",
       "    {'value': 2, 'timestamp': '2021-06-26T10:00:00+08:00'},\n",
       "    {'value': 1, 'timestamp': '2021-06-26T09:00:00+08:00'},\n",
       "    {'value': 0, 'timestamp': '2021-06-26T08:00:00+08:00'},\n",
       "    {'value': 0, 'timestamp': '2021-06-26T07:00:00+08:00'}]}],\n",
       " 'api_info': {'status': 'healthy'}}"
      ]
     },
     "execution_count": 3,
     "metadata": {},
     "output_type": "execute_result"
    }
   ],
   "source": [
    "uv_data = requests.get(\"https://api.data.gov.sg/v1/environment/uv-index\").json()\n",
    "uv_data"
   ]
  }
 ],
 "metadata": {
  "kernelspec": {
   "display_name": "Python 3",
   "language": "python",
   "name": "python3"
  },
  "language_info": {
   "codemirror_mode": {
    "name": "ipython",
    "version": 3
   },
   "file_extension": ".py",
   "mimetype": "text/x-python",
   "name": "python",
   "nbconvert_exporter": "python",
   "pygments_lexer": "ipython3",
   "version": "3.7.7"
  }
 },
 "nbformat": 4,
 "nbformat_minor": 4
}
