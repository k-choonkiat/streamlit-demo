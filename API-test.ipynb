{
 "cells": [
  {
   "cell_type": "code",
   "execution_count": 94,
   "metadata": {},
   "outputs": [],
   "source": [
    "import numpy as np\n",
    "import pandas as pd\n",
    "import time\n",
    "import requests\n",
    "import json"
   ]
  },
  {
   "cell_type": "code",
   "execution_count": 95,
   "metadata": {},
   "outputs": [],
   "source": [
    "weather_data = requests.get(\"https://api.data.gov.sg/v1/environment/pm25\").json()"
   ]
  },
  {
   "cell_type": "code",
   "execution_count": 96,
   "metadata": {},
   "outputs": [
    {
     "data": {
      "text/plain": [
       "{'region_metadata': [{'name': 'west',\n",
       "   'label_location': {'latitude': 1.35735, 'longitude': 103.7}},\n",
       "  {'name': 'east',\n",
       "   'label_location': {'latitude': 1.35735, 'longitude': 103.94}},\n",
       "  {'name': 'central',\n",
       "   'label_location': {'latitude': 1.35735, 'longitude': 103.82}},\n",
       "  {'name': 'south',\n",
       "   'label_location': {'latitude': 1.29587, 'longitude': 103.82}},\n",
       "  {'name': 'north',\n",
       "   'label_location': {'latitude': 1.41803, 'longitude': 103.82}}],\n",
       " 'items': [{'timestamp': '2021-06-19T23:00:00+08:00',\n",
       "   'update_timestamp': '2021-06-19T23:08:52+08:00',\n",
       "   'readings': {'pm25_one_hourly': {'west': 18,\n",
       "     'east': 6,\n",
       "     'central': 19,\n",
       "     'south': 17,\n",
       "     'north': 18}}}],\n",
       " 'api_info': {'status': 'healthy'}}"
      ]
     },
     "execution_count": 96,
     "metadata": {},
     "output_type": "execute_result"
    }
   ],
   "source": [
    "weather_data"
   ]
  },
  {
   "cell_type": "code",
   "execution_count": 97,
   "metadata": {},
   "outputs": [
    {
     "data": {
      "text/plain": [
       "[{'name': 'west', 'label_location': {'latitude': 1.35735, 'longitude': 103.7}},\n",
       " {'name': 'east',\n",
       "  'label_location': {'latitude': 1.35735, 'longitude': 103.94}},\n",
       " {'name': 'central',\n",
       "  'label_location': {'latitude': 1.35735, 'longitude': 103.82}},\n",
       " {'name': 'south',\n",
       "  'label_location': {'latitude': 1.29587, 'longitude': 103.82}},\n",
       " {'name': 'north',\n",
       "  'label_location': {'latitude': 1.41803, 'longitude': 103.82}}]"
      ]
     },
     "execution_count": 97,
     "metadata": {},
     "output_type": "execute_result"
    }
   ],
   "source": [
    "region_info = weather_data[\"region_metadata\"]\n",
    "region_info"
   ]
  },
  {
   "cell_type": "code",
   "execution_count": 102,
   "metadata": {},
   "outputs": [
    {
     "data": {
      "text/html": [
       "<div>\n",
       "<style scoped>\n",
       "    .dataframe tbody tr th:only-of-type {\n",
       "        vertical-align: middle;\n",
       "    }\n",
       "\n",
       "    .dataframe tbody tr th {\n",
       "        vertical-align: top;\n",
       "    }\n",
       "\n",
       "    .dataframe thead th {\n",
       "        text-align: right;\n",
       "    }\n",
       "</style>\n",
       "<table border=\"1\" class=\"dataframe\">\n",
       "  <thead>\n",
       "    <tr style=\"text-align: right;\">\n",
       "      <th></th>\n",
       "      <th>name</th>\n",
       "      <th>label_location</th>\n",
       "    </tr>\n",
       "  </thead>\n",
       "  <tbody>\n",
       "    <tr>\n",
       "      <th>0</th>\n",
       "      <td>west</td>\n",
       "      <td>{'latitude': 1.35735, 'longitude': 103.7}</td>\n",
       "    </tr>\n",
       "    <tr>\n",
       "      <th>1</th>\n",
       "      <td>east</td>\n",
       "      <td>{'latitude': 1.35735, 'longitude': 103.94}</td>\n",
       "    </tr>\n",
       "    <tr>\n",
       "      <th>2</th>\n",
       "      <td>central</td>\n",
       "      <td>{'latitude': 1.35735, 'longitude': 103.82}</td>\n",
       "    </tr>\n",
       "    <tr>\n",
       "      <th>3</th>\n",
       "      <td>south</td>\n",
       "      <td>{'latitude': 1.29587, 'longitude': 103.82}</td>\n",
       "    </tr>\n",
       "    <tr>\n",
       "      <th>4</th>\n",
       "      <td>north</td>\n",
       "      <td>{'latitude': 1.41803, 'longitude': 103.82}</td>\n",
       "    </tr>\n",
       "  </tbody>\n",
       "</table>\n",
       "</div>"
      ],
      "text/plain": [
       "      name                              label_location\n",
       "0     west   {'latitude': 1.35735, 'longitude': 103.7}\n",
       "1     east  {'latitude': 1.35735, 'longitude': 103.94}\n",
       "2  central  {'latitude': 1.35735, 'longitude': 103.82}\n",
       "3    south  {'latitude': 1.29587, 'longitude': 103.82}\n",
       "4    north  {'latitude': 1.41803, 'longitude': 103.82}"
      ]
     },
     "execution_count": 102,
     "metadata": {},
     "output_type": "execute_result"
    }
   ],
   "source": [
    "region_info = pd.DataFrame.from_dict(weather_data[\"region_metadata\"])\n",
    "region_info"
   ]
  },
  {
   "cell_type": "code",
   "execution_count": 107,
   "metadata": {},
   "outputs": [
    {
     "data": {
      "text/html": [
       "<div>\n",
       "<style scoped>\n",
       "    .dataframe tbody tr th:only-of-type {\n",
       "        vertical-align: middle;\n",
       "    }\n",
       "\n",
       "    .dataframe tbody tr th {\n",
       "        vertical-align: top;\n",
       "    }\n",
       "\n",
       "    .dataframe thead th {\n",
       "        text-align: right;\n",
       "    }\n",
       "</style>\n",
       "<table border=\"1\" class=\"dataframe\">\n",
       "  <thead>\n",
       "    <tr style=\"text-align: right;\">\n",
       "      <th></th>\n",
       "      <th>name</th>\n",
       "      <th>latitude</th>\n",
       "      <th>longitude</th>\n",
       "    </tr>\n",
       "  </thead>\n",
       "  <tbody>\n",
       "    <tr>\n",
       "      <th>0</th>\n",
       "      <td>west</td>\n",
       "      <td>1.35735</td>\n",
       "      <td>103.70</td>\n",
       "    </tr>\n",
       "    <tr>\n",
       "      <th>1</th>\n",
       "      <td>east</td>\n",
       "      <td>1.35735</td>\n",
       "      <td>103.94</td>\n",
       "    </tr>\n",
       "    <tr>\n",
       "      <th>2</th>\n",
       "      <td>central</td>\n",
       "      <td>1.35735</td>\n",
       "      <td>103.82</td>\n",
       "    </tr>\n",
       "    <tr>\n",
       "      <th>3</th>\n",
       "      <td>south</td>\n",
       "      <td>1.29587</td>\n",
       "      <td>103.82</td>\n",
       "    </tr>\n",
       "    <tr>\n",
       "      <th>4</th>\n",
       "      <td>north</td>\n",
       "      <td>1.41803</td>\n",
       "      <td>103.82</td>\n",
       "    </tr>\n",
       "  </tbody>\n",
       "</table>\n",
       "</div>"
      ],
      "text/plain": [
       "      name  latitude  longitude\n",
       "0     west   1.35735     103.70\n",
       "1     east   1.35735     103.94\n",
       "2  central   1.35735     103.82\n",
       "3    south   1.29587     103.82\n",
       "4    north   1.41803     103.82"
      ]
     },
     "execution_count": 107,
     "metadata": {},
     "output_type": "execute_result"
    }
   ],
   "source": [
    "region_info['label_location'].apply(pd.Series)\n",
    "pd.concat([region_info.drop(['label_location'],axis=1),region_info['label_location'].apply(pd.Series)],axis=1)"
   ]
  },
  {
   "cell_type": "code",
   "execution_count": 90,
   "metadata": {},
   "outputs": [],
   "source": [
    "pm_readings = weather_data['items']\n",
    "pm_readings = pm_readings[0]\n",
    "# convert the readings to "
   ]
  },
  {
   "cell_type": "code",
   "execution_count": 117,
   "metadata": {
    "scrolled": true
   },
   "outputs": [
    {
     "data": {
      "text/html": [
       "<div>\n",
       "<style scoped>\n",
       "    .dataframe tbody tr th:only-of-type {\n",
       "        vertical-align: middle;\n",
       "    }\n",
       "\n",
       "    .dataframe tbody tr th {\n",
       "        vertical-align: top;\n",
       "    }\n",
       "\n",
       "    .dataframe thead th {\n",
       "        text-align: right;\n",
       "    }\n",
       "</style>\n",
       "<table border=\"1\" class=\"dataframe\">\n",
       "  <thead>\n",
       "    <tr style=\"text-align: right;\">\n",
       "      <th></th>\n",
       "      <th>west</th>\n",
       "      <th>east</th>\n",
       "      <th>central</th>\n",
       "      <th>south</th>\n",
       "      <th>north</th>\n",
       "    </tr>\n",
       "  </thead>\n",
       "  <tbody>\n",
       "    <tr>\n",
       "      <th>pm25_one_hourly</th>\n",
       "      <td>18</td>\n",
       "      <td>6</td>\n",
       "      <td>19</td>\n",
       "      <td>17</td>\n",
       "      <td>18</td>\n",
       "    </tr>\n",
       "  </tbody>\n",
       "</table>\n",
       "</div>"
      ],
      "text/plain": [
       "                 west  east  central  south  north\n",
       "pm25_one_hourly    18     6       19     17     18"
      ]
     },
     "execution_count": 117,
     "metadata": {},
     "output_type": "execute_result"
    }
   ],
   "source": [
    "#processing the pm_readings \n",
    "pm_info = pd.DataFrame.from_dict(weather_data['items'][0])\n",
    "pm_info['readings'].apply(pd.Series)"
   ]
  },
  {
   "cell_type": "code",
   "execution_count": 123,
   "metadata": {},
   "outputs": [
    {
     "data": {
      "text/html": [
       "<div>\n",
       "<style scoped>\n",
       "    .dataframe tbody tr th:only-of-type {\n",
       "        vertical-align: middle;\n",
       "    }\n",
       "\n",
       "    .dataframe tbody tr th {\n",
       "        vertical-align: top;\n",
       "    }\n",
       "\n",
       "    .dataframe thead th {\n",
       "        text-align: right;\n",
       "    }\n",
       "</style>\n",
       "<table border=\"1\" class=\"dataframe\">\n",
       "  <thead>\n",
       "    <tr style=\"text-align: right;\">\n",
       "      <th></th>\n",
       "      <th>timestamp</th>\n",
       "      <th>update_timestamp</th>\n",
       "    </tr>\n",
       "  </thead>\n",
       "  <tbody>\n",
       "    <tr>\n",
       "      <th>pm25_one_hourly</th>\n",
       "      <td>2021-06-19T23:00:00+08:00</td>\n",
       "      <td>2021-06-19T23:08:52+08:00</td>\n",
       "    </tr>\n",
       "  </tbody>\n",
       "</table>\n",
       "</div>"
      ],
      "text/plain": [
       "                                 timestamp           update_timestamp\n",
       "pm25_one_hourly  2021-06-19T23:00:00+08:00  2021-06-19T23:08:52+08:00"
      ]
     },
     "execution_count": 123,
     "metadata": {},
     "output_type": "execute_result"
    }
   ],
   "source": [
    "pm_info.drop(['readings'],axis=1)"
   ]
  },
  {
   "cell_type": "code",
   "execution_count": 124,
   "metadata": {},
   "outputs": [
    {
     "data": {
      "text/html": [
       "<div>\n",
       "<style scoped>\n",
       "    .dataframe tbody tr th:only-of-type {\n",
       "        vertical-align: middle;\n",
       "    }\n",
       "\n",
       "    .dataframe tbody tr th {\n",
       "        vertical-align: top;\n",
       "    }\n",
       "\n",
       "    .dataframe thead th {\n",
       "        text-align: right;\n",
       "    }\n",
       "</style>\n",
       "<table border=\"1\" class=\"dataframe\">\n",
       "  <thead>\n",
       "    <tr style=\"text-align: right;\">\n",
       "      <th></th>\n",
       "      <th>timestamp</th>\n",
       "      <th>update_timestamp</th>\n",
       "      <th>west</th>\n",
       "      <th>east</th>\n",
       "      <th>central</th>\n",
       "      <th>south</th>\n",
       "      <th>north</th>\n",
       "    </tr>\n",
       "  </thead>\n",
       "  <tbody>\n",
       "    <tr>\n",
       "      <th>pm25_one_hourly</th>\n",
       "      <td>2021-06-19T23:00:00+08:00</td>\n",
       "      <td>2021-06-19T23:08:52+08:00</td>\n",
       "      <td>18</td>\n",
       "      <td>6</td>\n",
       "      <td>19</td>\n",
       "      <td>17</td>\n",
       "      <td>18</td>\n",
       "    </tr>\n",
       "  </tbody>\n",
       "</table>\n",
       "</div>"
      ],
      "text/plain": [
       "                                 timestamp           update_timestamp  west  \\\n",
       "pm25_one_hourly  2021-06-19T23:00:00+08:00  2021-06-19T23:08:52+08:00    18   \n",
       "\n",
       "                 east  central  south  north  \n",
       "pm25_one_hourly     6       19     17     18  "
      ]
     },
     "execution_count": 124,
     "metadata": {},
     "output_type": "execute_result"
    }
   ],
   "source": [
    "pd.concat([pm_info.drop(['readings'],axis=1),pm_info['readings'].apply(pd.Series)],axis=1)"
   ]
  }
 ],
 "metadata": {
  "kernelspec": {
   "display_name": "Python 3",
   "language": "python",
   "name": "python3"
  },
  "language_info": {
   "codemirror_mode": {
    "name": "ipython",
    "version": 3
   },
   "file_extension": ".py",
   "mimetype": "text/x-python",
   "name": "python",
   "nbconvert_exporter": "python",
   "pygments_lexer": "ipython3",
   "version": "3.7.7"
  }
 },
 "nbformat": 4,
 "nbformat_minor": 4
}
